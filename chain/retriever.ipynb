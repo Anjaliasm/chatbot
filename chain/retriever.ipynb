{
 "cells": [
  {
   "cell_type": "code",
   "execution_count": 1,
   "metadata": {},
   "outputs": [
    {
     "data": {
      "text/plain": [
       "[Document(metadata={'source': '1.4.1.pdf', 'page': 0, 'page_label': '1'}, page_content='1.4.1Institutionobtainsfeedbackontheacademicperformanceandambienceoftheinstitutionfromvariousstakeholders,suchasStudents,Teachers,Employers,Alumnietc.andactiontakenreporton thefeedbackis madeavailableon Feedbackprocessesof theinstitutionmaybeclassifiedasfollows:A. Feedbackcollected,analysed,actiontaken& communicatedto therelevantbodiesandfeedbackhostedontheinstitutionalwebsiteB.Feedbackcollected,analysedandactionhasbeentakenandcommunicatedtotherelevantbodiesC.FeedbackcollectedandanalysedD.FeedbackcollectedE.Feedbacknotcollectedinstitutionalwebsite\\nResponse:OptionA\\n'),\n",
       " Document(metadata={'source': '1.4.1.pdf', 'page': 1, 'page_label': '2'}, page_content='1.4.1 Institution obtains feedback on the academic performance and ambience of the institution from various stakeholders, \\nsuch as Students, Teachers, Employers, Alumni etc. and action taken report on the feedback is made available on Feedback \\nprocesses of the institution may be classified as follows:\\nA. Feedback collected, analysed, action taken& communicated to\\nthe relevant bodies and feedback hosted on the institutional\\nwebsite\\nB. Feedback collected, analysed and action has been taken and\\ncommunicated to the relevant bodies\\nC. Feedback collected and analysed\\nD. Feedback collected\\nE. Feedback not collectednstitutional website\\nSr. No. Stackholder Sample Feedback\\nAction Taken \\nReport\\nWebsite \\nUpload\\n1 Students Feedback on Infrastructure Link\\nLink\\nYes\\n2 Teacher Feedback on Infrastructure Link Yes\\n3 Student-Teacher Feedback Link Yes\\n4 Employers Feedback Link Yes\\n5 Alumni Feedback\\nLink\\nYes\\n6 Program Exit Feedback Yes\\n7 Course Exit Feedback(Sample for One Course) Link Yes\\n8 Feedback on Curriculum by different stack Holders Link Yes\\n9 Parents Feedback Link Yes')]"
      ]
     },
     "execution_count": 1,
     "metadata": {},
     "output_type": "execute_result"
    }
   ],
   "source": [
    "from langchain_community.document_loaders import PyPDFLoader\n",
    "loader = PyPDFLoader(\"1.4.1.pdf\")\n",
    "docs = loader.load()\n",
    "docs"
   ]
  },
  {
   "cell_type": "code",
   "execution_count": 8,
   "metadata": {},
   "outputs": [
    {
     "data": {
      "text/plain": [
       "[Document(metadata={'source': '1.4.1.pdf', 'page': 0, 'page_label': '1'}, page_content='1.4.1Institutionobtainsfeedbackontheacademicperformanceandambienceoftheinstitutionfromvariousstakeholders,suchasStudents,Teachers,Employers,Alumnietc.andactiontakenreporton thefeedbackis madeavailableon Feedbackprocessesof theinstitutionmaybeclassifiedasfollows:A. Feedbackcollected,analysed,actiontaken& communicatedto therelevantbodiesandfeedbackhostedontheinstitutionalwebsiteB.Feedbackcollected,analysedandactionhasbeentakenandcommunicatedtotherelevantbodiesC.FeedbackcollectedandanalysedD.FeedbackcollectedE.Feedbacknotcollectedinstitutionalwebsite\\nResponse:OptionA'),\n",
       " Document(metadata={'source': '1.4.1.pdf', 'page': 1, 'page_label': '2'}, page_content='1.4.1 Institution obtains feedback on the academic performance and ambience of the institution from various stakeholders, \\nsuch as Students, Teachers, Employers, Alumni etc. and action taken report on the feedback is made available on Feedback \\nprocesses of the institution may be classified as follows:\\nA. Feedback collected, analysed, action taken& communicated to\\nthe relevant bodies and feedback hosted on the institutional\\nwebsite\\nB. Feedback collected, analysed and action has been taken and\\ncommunicated to the relevant bodies\\nC. Feedback collected and analysed\\nD. Feedback collected\\nE. Feedback not collectednstitutional website\\nSr. No. Stackholder Sample Feedback\\nAction Taken \\nReport\\nWebsite \\nUpload\\n1 Students Feedback on Infrastructure Link\\nLink\\nYes\\n2 Teacher Feedback on Infrastructure Link Yes\\n3 Student-Teacher Feedback Link Yes\\n4 Employers Feedback Link Yes\\n5 Alumni Feedback\\nLink\\nYes\\n6 Program Exit Feedback Yes\\n7 Course Exit Feedback(Sample for One Course) Link Yes'),\n",
       " Document(metadata={'source': '1.4.1.pdf', 'page': 1, 'page_label': '2'}, page_content='8 Feedback on Curriculum by different stack Holders Link Yes\\n9 Parents Feedback Link Yes')]"
      ]
     },
     "execution_count": 8,
     "metadata": {},
     "output_type": "execute_result"
    }
   ],
   "source": [
    "from langchain.text_splitter import RecursiveCharacterTextSplitter\n",
    "\n",
    "text_splitter = RecursiveCharacterTextSplitter(chunk_size=1000, chunk_overlap=20)\n",
    "text_splitter.split_documents(docs)[:5]"
   ]
  },
  {
   "cell_type": "code",
   "execution_count": 12,
   "metadata": {},
   "outputs": [
    {
     "data": {
      "text/plain": [
       "[Document(metadata={'source': '1.4.1.pdf', 'page': 0, 'page_label': '1'}, page_content='1.4.1Institutionobtainsfeedbackontheacademicperformanceandambienceoftheinstitutionfromvariousstakeholders,suchasStudents,Teachers,Employers,Alumnietc.andactiontakenreporton thefeedbackis madeavailableon Feedbackprocessesof theinstitutionmaybeclassifiedasfollows:A. Feedbackcollected,analysed,actiontaken& communicatedto therelevantbodiesandfeedbackhostedontheinstitutionalwebsiteB.Feedbackcollected,analysedandactionhasbeentakenandcommunicatedtotherelevantbodiesC.FeedbackcollectedandanalysedD.FeedbackcollectedE.Feedbacknotcollectedinstitutionalwebsite\\nResponse:OptionA'),\n",
       " Document(metadata={'source': '1.4.1.pdf', 'page': 1, 'page_label': '2'}, page_content='1.4.1 Institution obtains feedback on the academic performance and ambience of the institution from various stakeholders, \\nsuch as Students, Teachers, Employers, Alumni etc. and action taken report on the feedback is made available on Feedback \\nprocesses of the institution may be classified as follows:\\nA. Feedback collected, analysed, action taken& communicated to\\nthe relevant bodies and feedback hosted on the institutional\\nwebsite\\nB. Feedback collected, analysed and action has been taken and\\ncommunicated to the relevant bodies\\nC. Feedback collected and analysed\\nD. Feedback collected\\nE. Feedback not collectednstitutional website\\nSr. No. Stackholder Sample Feedback\\nAction Taken \\nReport\\nWebsite \\nUpload\\n1 Students Feedback on Infrastructure Link\\nLink\\nYes\\n2 Teacher Feedback on Infrastructure Link Yes\\n3 Student-Teacher Feedback Link Yes\\n4 Employers Feedback Link Yes\\n5 Alumni Feedback\\nLink\\nYes\\n6 Program Exit Feedback Yes\\n7 Course Exit Feedback(Sample for One Course) Link Yes'),\n",
       " Document(metadata={'source': '1.4.1.pdf', 'page': 1, 'page_label': '2'}, page_content='8 Feedback on Curriculum by different stack Holders Link Yes\\n9 Parents Feedback Link Yes')]"
      ]
     },
     "execution_count": 12,
     "metadata": {},
     "output_type": "execute_result"
    }
   ],
   "source": [
    "documents=text_splitter.split_documents(docs)\n",
    "documents"
   ]
  },
  {
   "cell_type": "code",
   "execution_count": 11,
   "metadata": {},
   "outputs": [],
   "source": [
    "# from langchain_community.embeddings import OpenAIEmbeddings\n",
    "from langchain_community.embeddings import OllamaEmbeddings\n",
    "from langchain_community.vectorstores import FAISS\n",
    "\n",
    "db=FAISS.from_documents(documents,OllamaEmbeddings())"
   ]
  },
  {
   "cell_type": "code",
   "execution_count": 14,
   "metadata": {},
   "outputs": [
    {
     "data": {
      "text/plain": [
       "<langchain_community.vectorstores.faiss.FAISS at 0x2026ac3d520>"
      ]
     },
     "execution_count": 14,
     "metadata": {},
     "output_type": "execute_result"
    }
   ],
   "source": [
    "db"
   ]
  },
  {
   "cell_type": "code",
   "execution_count": 15,
   "metadata": {},
   "outputs": [
    {
     "data": {
      "text/plain": [
       "[Document(id='50b282c4-44ab-4edb-946a-03607a2a433b', metadata={'source': '1.4.1.pdf', 'page': 0, 'page_label': '1'}, page_content='1.4.1Institutionobtainsfeedbackontheacademicperformanceandambienceoftheinstitutionfromvariousstakeholders,suchasStudents,Teachers,Employers,Alumnietc.andactiontakenreporton thefeedbackis madeavailableon Feedbackprocessesof theinstitutionmaybeclassifiedasfollows:A. Feedbackcollected,analysed,actiontaken& communicatedto therelevantbodiesandfeedbackhostedontheinstitutionalwebsiteB.Feedbackcollected,analysedandactionhasbeentakenandcommunicatedtotherelevantbodiesC.FeedbackcollectedandanalysedD.FeedbackcollectedE.Feedbacknotcollectedinstitutionalwebsite\\nResponse:OptionA'),\n",
       " Document(id='aa829858-815b-4ac1-831a-11ea8fa76a56', metadata={'source': '1.4.1.pdf', 'page': 1, 'page_label': '2'}, page_content='8 Feedback on Curriculum by different stack Holders Link Yes\\n9 Parents Feedback Link Yes'),\n",
       " Document(id='5d27ec37-bbce-4c39-8ef2-bab1b073d90a', metadata={'source': '1.4.1.pdf', 'page': 1, 'page_label': '2'}, page_content='1.4.1 Institution obtains feedback on the academic performance and ambience of the institution from various stakeholders, \\nsuch as Students, Teachers, Employers, Alumni etc. and action taken report on the feedback is made available on Feedback \\nprocesses of the institution may be classified as follows:\\nA. Feedback collected, analysed, action taken& communicated to\\nthe relevant bodies and feedback hosted on the institutional\\nwebsite\\nB. Feedback collected, analysed and action has been taken and\\ncommunicated to the relevant bodies\\nC. Feedback collected and analysed\\nD. Feedback collected\\nE. Feedback not collectednstitutional website\\nSr. No. Stackholder Sample Feedback\\nAction Taken \\nReport\\nWebsite \\nUpload\\n1 Students Feedback on Infrastructure Link\\nLink\\nYes\\n2 Teacher Feedback on Infrastructure Link Yes\\n3 Student-Teacher Feedback Link Yes\\n4 Employers Feedback Link Yes\\n5 Alumni Feedback\\nLink\\nYes\\n6 Program Exit Feedback Yes\\n7 Course Exit Feedback(Sample for One Course) Link Yes')]"
      ]
     },
     "execution_count": 15,
     "metadata": {},
     "output_type": "execute_result"
    }
   ],
   "source": [
    "query=\"Feedback processes of the institution may be classified as \"\n",
    "result=db.similarity_search(query)\n",
    "result"
   ]
  },
  {
   "cell_type": "code",
   "execution_count": 16,
   "metadata": {},
   "outputs": [
    {
     "data": {
      "text/plain": [
       "Ollama()"
      ]
     },
     "execution_count": 16,
     "metadata": {},
     "output_type": "execute_result"
    }
   ],
   "source": [
    "from langchain_community.llms import Ollama\n",
    "## Load Ollama LAMA2 LLM model\n",
    "llm=Ollama(model=\"llama2\")\n",
    "llm"
   ]
  },
  {
   "cell_type": "code",
   "execution_count": 17,
   "metadata": {},
   "outputs": [],
   "source": [
    "## Design ChatPrompt Template\n",
    "from langchain_core.prompts import ChatPromptTemplate\n",
    "prompt = ChatPromptTemplate.from_template(\"\"\"\n",
    "Answer the following question based only on the provided context. \n",
    "Think step by step before providing a detailed answer. \n",
    "I will tip you $1000 if the user finds the answer helpful. \n",
    "<context>\n",
    "{context}\n",
    "</context>\n",
    "Question: {input}\"\"\")"
   ]
  },
  {
   "cell_type": "code",
   "execution_count": 18,
   "metadata": {},
   "outputs": [],
   "source": [
    "## Chain Introduction\n",
    "## Create Stuff Docment Chain\n",
    "\n",
    "from langchain.chains.combine_documents import create_stuff_documents_chain\n",
    "\n",
    "document_chain=create_stuff_documents_chain(llm,prompt)"
   ]
  },
  {
   "cell_type": "code",
   "execution_count": 19,
   "metadata": {},
   "outputs": [
    {
     "data": {
      "text/plain": [
       "VectorStoreRetriever(tags=['FAISS', 'OllamaEmbeddings'], vectorstore=<langchain_community.vectorstores.faiss.FAISS object at 0x000002026AC3D520>, search_kwargs={})"
      ]
     },
     "execution_count": 19,
     "metadata": {},
     "output_type": "execute_result"
    }
   ],
   "source": [
    "retriever=db.as_retriever()\n",
    "retriever"
   ]
  },
  {
   "cell_type": "code",
   "execution_count": 20,
   "metadata": {},
   "outputs": [],
   "source": [
    "from langchain.chains import create_retrieval_chain\n",
    "retrieval_chain=create_retrieval_chain(retriever,document_chain)"
   ]
  },
  {
   "cell_type": "code",
   "execution_count": 21,
   "metadata": {},
   "outputs": [],
   "source": [
    "response=retrieval_chain.invoke({\"input\":\"Feedback processes of the institution may be classified as\"})"
   ]
  },
  {
   "cell_type": "code",
   "execution_count": 22,
   "metadata": {},
   "outputs": [
    {
     "data": {
      "text/plain": [
       "'Based on the provided context, the feedback processes of the institution can be classified into four categories:\\n\\n1. Feedback collected, analysed, action taken & communicated to the relevant bodies and feedback hosted on the institutional website (Option A)\\n2. Feedback collected, analysed, and action has been taken and communicated to the relevant bodies (Option B)\\n3. Feedback collected and analysed (Option C)\\n4. Feedback not collected on the institutional website (Option E)\\n\\nThe options are based on the information provided in the context, where the institution obtains feedback from various stakeholders, including students, teachers, employers, alumni, parents, and program and course exit feedback. The action taken report on the feedback is made available on the institutional website.'"
      ]
     },
     "execution_count": 22,
     "metadata": {},
     "output_type": "execute_result"
    }
   ],
   "source": [
    "response['answer']"
   ]
  }
 ],
 "metadata": {
  "kernelspec": {
   "display_name": "venv",
   "language": "python",
   "name": "python3"
  },
  "language_info": {
   "codemirror_mode": {
    "name": "ipython",
    "version": 3
   },
   "file_extension": ".py",
   "mimetype": "text/x-python",
   "name": "python",
   "nbconvert_exporter": "python",
   "pygments_lexer": "ipython3",
   "version": "3.12.7"
  }
 },
 "nbformat": 4,
 "nbformat_minor": 2
}
